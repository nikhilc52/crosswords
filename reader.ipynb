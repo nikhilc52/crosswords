{
 "cells": [
  {
   "cell_type": "code",
   "execution_count": null,
   "id": "fd48a771",
   "metadata": {},
   "outputs": [],
   "source": [
    "import requests\n",
    "from bs4 import BeautifulSoup\n",
    "from datetime import date\n",
    "from dateutil import parser\n",
    "import duckdb\n",
    "\n",
    "import pandas as pd\n",
    "import numpy as np\n",
    "import time"
   ]
  },
  {
   "cell_type": "code",
   "execution_count": null,
   "id": "69044e2e",
   "metadata": {},
   "outputs": [],
   "source": [
    "dates = pd.date_range(date(1993,11,21),date(2025,1,1),freq='d').strftime('%#m/%#d/%Y').tolist()\n",
    "\n",
    "print(len(dates))"
   ]
  },
  {
   "cell_type": "code",
   "execution_count": null,
   "id": "405ecd1d",
   "metadata": {},
   "outputs": [],
   "source": [
    "table_l = []\n",
    "\n",
    "for d in dates:\n",
    "    d = parser.parse(d).strftime('%#m-%#d-%Y')\n",
    "    with open(\"crosswords/\" + d + \"_crossword.html\", \"r\") as reader:\n",
    "        html_source = reader.read()\n",
    "    page = BeautifulSoup(html_source, \"html.parser\")\n",
    "    \n",
    "    table = page.find(\"table\", {\"id\": \"PuzTable\"})\n",
    "    rows = table.find_all(\"tr\")\n",
    "    string = ''\n",
    "    for row in rows:\n",
    "        cells = row.find_all(\"td\")\n",
    "        for cell in cells:\n",
    "            if len(cell.text) == 0:\n",
    "                string = string + 'b'\n",
    "            else:\n",
    "                string = string + 'w'\n",
    "    table_l.append(string)\n",
    "    print(d)\n",
    " \n",
    "weekdays = []   \n",
    "for d in dates:\n",
    "     weekdays.append(parser.parse(d).strftime('%a'))\n",
    "representations_df = pd.DataFrame({'date':dates,'day':weekdays,'representation':table_l})\n"
   ]
  },
  {
   "cell_type": "code",
   "execution_count": null,
   "id": "c06f07f1",
   "metadata": {},
   "outputs": [],
   "source": [
    "representations_df.to_csv('crossword_representations.csv', index=False)"
   ]
  },
  {
   "cell_type": "code",
   "execution_count": null,
   "id": "5a422498",
   "metadata": {},
   "outputs": [],
   "source": [
    "clues_df = pd.DataFrame()\n",
    "\n",
    "for d in dates:\n",
    "    d = parser.parse(d).strftime('%#m-%#d-%Y')\n",
    "    with open(\"crosswords/\" + d + \"_crossword.html\", \"r\") as reader:\n",
    "        html_source = reader.read()\n",
    "    page = BeautifulSoup(html_source, \"html.parser\")\n",
    "    \n",
    "    across = page.find(\"div\", {\"id\":\"ACluesPan\"})\n",
    "    try:  \n",
    "        clues = across.find_all('div')[2:]\n",
    "    except:\n",
    "        clues = []\n",
    "        pass\n",
    "    \n",
    "    number_l = []\n",
    "    clue_l = []\n",
    "    answer_l = []\n",
    "\n",
    "    for index, clue in enumerate(clues):\n",
    "        if clue.find('a') == None:\n",
    "            number_l.append(clue.text)\n",
    "        else:\n",
    "            partition = clue.text.rpartition(':')\n",
    "            clue_l.append(partition[0])\n",
    "            answer_l.append(partition[2])\n",
    "            \n",
    "    across_df = pd.DataFrame({'number':number_l,'clue':clue_l,'answer':answer_l})\n",
    "    across_df['direction'] = 'across'\n",
    "\n",
    "    down = page.find(\"div\", {\"id\":\"DCluesPan\"})\n",
    "    try:   \n",
    "        clues = down.find_all('div')[2:]\n",
    "    except:\n",
    "        clues = []\n",
    "        pass\n",
    "    \n",
    "    number_l = []\n",
    "    clue_l = []\n",
    "    answer_l = []\n",
    "\n",
    "    for index, clue in enumerate(clues):\n",
    "        if clue.find('a') == None:\n",
    "            number_l.append(clue.text)\n",
    "        else:\n",
    "            partition = clue.text.rpartition(':')\n",
    "            clue_l.append(partition[0])\n",
    "            answer_l.append(partition[2])\n",
    "            \n",
    "    down_df = pd.DataFrame({'number':number_l,'clue':clue_l,'answer':answer_l})\n",
    "    down_df['direction'] = 'down'\n",
    "\n",
    "    down_across_df = pd.concat([across_df, down_df])\n",
    "    down_across_df['date'] = d\n",
    "    down_across_df['day'] = parser.parse(d).strftime('%a')\n",
    "    \n",
    "    clues_df = pd.concat([clues_df, down_across_df])\n",
    "    print(d)\n",
    "\n"
   ]
  },
  {
   "cell_type": "code",
   "execution_count": null,
   "id": "5156e480",
   "metadata": {},
   "outputs": [],
   "source": [
    "clues_df.to_csv('crossword_clues.csv', index=False)"
   ]
  }
 ],
 "metadata": {
  "kernelspec": {
   "display_name": "info2950FA24",
   "language": "python",
   "name": "python3"
  },
  "language_info": {
   "codemirror_mode": {
    "name": "ipython",
    "version": 3
   },
   "file_extension": ".py",
   "mimetype": "text/x-python",
   "name": "python",
   "nbconvert_exporter": "python",
   "pygments_lexer": "ipython3",
   "version": "3.12.4"
  }
 },
 "nbformat": 4,
 "nbformat_minor": 5
}
