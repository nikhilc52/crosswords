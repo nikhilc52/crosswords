{
 "cells": [
  {
   "cell_type": "code",
   "execution_count": 5,
   "id": "fd48a771",
   "metadata": {},
   "outputs": [],
   "source": [
    "import requests\n",
    "from bs4 import BeautifulSoup\n",
    "from datetime import date\n",
    "from dateutil import parser\n",
    "\n",
    "import pandas as pd\n",
    "import numpy as np\n",
    "import time"
   ]
  },
  {
   "cell_type": "code",
   "execution_count": 7,
   "id": "69044e2e",
   "metadata": {},
   "outputs": [
    {
     "name": "stdout",
     "output_type": "stream",
     "text": [
      "2213\n"
     ]
    }
   ],
   "source": [
    "dates = pd.date_range(date(1993,12,11),date(2000,1,1),freq='d').strftime('%#m/%#d/%Y').tolist()\n",
    "\n",
    "print(len(dates))"
   ]
  },
  {
   "cell_type": "code",
   "execution_count": 8,
   "id": "405ecd1d",
   "metadata": {},
   "outputs": [],
   "source": [
    "hdr = {'User-Agent': 'Mozilla/5.0'}\n",
    "\n",
    "for d in dates:\n",
    "    url = 'https://www.xwordinfo.com/Crossword?date=' + d\n",
    "    result = requests.get(url, headers=hdr)\n",
    "    d = parser.parse(d).strftime('%#m-%#d-%Y')\n",
    "    \n",
    "    if result.status_code != 200:\n",
    "        print(\"something went wrong on \" + d + \" : \", result.status_code, result.reason)\n",
    "    \n",
    "    with open(\"crosswords/\" + d + \"_crossword.html\", \"w\") as writer:\n",
    "        writer.write(result.text)\n",
    "    \n",
    "    time.sleep(10)"
   ]
  }
 ],
 "metadata": {
  "kernelspec": {
   "display_name": "info2950FA24",
   "language": "python",
   "name": "python3"
  },
  "language_info": {
   "codemirror_mode": {
    "name": "ipython",
    "version": 3
   },
   "file_extension": ".py",
   "mimetype": "text/x-python",
   "name": "python",
   "nbconvert_exporter": "python",
   "pygments_lexer": "ipython3",
   "version": "3.12.4"
  }
 },
 "nbformat": 4,
 "nbformat_minor": 5
}
