{
 "cells": [
  {
   "cell_type": "code",
   "execution_count": null,
   "id": "7b63340e",
   "metadata": {},
   "outputs": [],
   "source": [
    "import pandas as pd\n",
    "import numpy as np\n",
    "import duckdb\n",
    "from nltk.tag import pos_tag\n",
    "from nltk.tokenize import word_tokenize"
   ]
  },
  {
   "cell_type": "code",
   "execution_count": null,
   "id": "f5667057",
   "metadata": {},
   "outputs": [],
   "source": [
    "data = pd.read_csv(\"../crossword_clues.csv\")\n",
    "data.head()"
   ]
  },
  {
   "cell_type": "code",
   "execution_count": null,
   "id": "5ad10741",
   "metadata": {},
   "outputs": [],
   "source": [
    "#takes about 6 mins to run\n",
    "word_list = [[]] * len(data['clue']) \n",
    "\n",
    "for index, item in enumerate(data['clue']):\n",
    "    print(index)\n",
    "    word_list[index] = (pos_tag(word_tokenize(item)))"
   ]
  },
  {
   "cell_type": "code",
   "execution_count": null,
   "id": "e1ea7b8f",
   "metadata": {},
   "outputs": [],
   "source": [
    "data['words'] = word_list\n",
    "data = data.explode('words') #splits into different rows"
   ]
  },
  {
   "cell_type": "code",
   "execution_count": null,
   "id": "5e7210c2",
   "metadata": {},
   "outputs": [],
   "source": [
    "data[['word', 'pos']] = pd.DataFrame(data['words'].tolist(), index=data.index) #splits into cols"
   ]
  },
  {
   "cell_type": "code",
   "execution_count": null,
   "id": "f05bbe1d",
   "metadata": {},
   "outputs": [],
   "source": [
    "data.to_csv('nouns.csv')"
   ]
  },
  {
   "cell_type": "code",
   "execution_count": null,
   "id": "f7394159",
   "metadata": {},
   "outputs": [],
   "source": [
    "nouns = pd.read_csv('nouns.csv')"
   ]
  },
  {
   "cell_type": "code",
   "execution_count": null,
   "id": "120a8469",
   "metadata": {},
   "outputs": [],
   "source": [
    "ppns = duckdb.sql(\"\"\"SELECT word, COUNT(*) as count FROM nouns \n",
    "           WHERE pos = 'NNP' \n",
    "           GROUP BY word\n",
    "           ORDER BY count DESC\"\"\").df()"
   ]
  },
  {
   "cell_type": "code",
   "execution_count": null,
   "id": "f8150d32",
   "metadata": {},
   "outputs": [],
   "source": [
    "#takes about 7 seconds to run\n",
    "data = pd.read_csv(\"../crossword_clues.csv\")\n",
    "first_words = [[]] * len(data['clue']) \n",
    "\n",
    "for index, item in enumerate(data['clue']):\n",
    "    print(index)\n",
    "    clue_words = str.split(item, ' ')\n",
    "    if len(clue_words) != 0:\n",
    "        first_words[index] = clue_words[0]\n",
    "    else:\n",
    "        first_words[index] = \"\""
   ]
  },
  {
   "cell_type": "code",
   "execution_count": null,
   "id": "2192e995",
   "metadata": {},
   "outputs": [],
   "source": [
    "first_words_df = pd.DataFrame(first_words).rename(columns={0:\"word\"})\n",
    "first_words_df = duckdb.sql(\"\"\"SELECT word, COUNT() as count FROM first_words_df GROUP BY word ORDER BY count DESC\"\"\").df()"
   ]
  },
  {
   "cell_type": "code",
   "execution_count": null,
   "id": "14c05051",
   "metadata": {},
   "outputs": [],
   "source": [
    "#takes about 7 seconds to run\n",
    "data = pd.read_csv(\"../crossword_clues.csv\")\n",
    "last_words = [[]] * len(data['clue']) \n",
    "\n",
    "for index, item in enumerate(data['clue']):\n",
    "    print(index)\n",
    "    clue_words = str.split(item, ' ')\n",
    "    if len(clue_words) != 0:\n",
    "        last_words[index] = clue_words[len(clue_words)-2]\n",
    "    else:\n",
    "        last_words[index] = \"\""
   ]
  },
  {
   "cell_type": "code",
   "execution_count": null,
   "id": "4cc4597b",
   "metadata": {},
   "outputs": [],
   "source": [
    "last_words_df = pd.DataFrame(last_words).rename(columns={0:\"word\"})\n",
    "last_words_df = duckdb.sql(\"\"\"SELECT word, COUNT() as count FROM last_words_df GROUP BY word ORDER BY count DESC\"\"\").df()"
   ]
  }
 ],
 "metadata": {
  "kernelspec": {
   "display_name": "info2950FA24",
   "language": "python",
   "name": "python3"
  },
  "language_info": {
   "codemirror_mode": {
    "name": "ipython",
    "version": 3
   },
   "file_extension": ".py",
   "mimetype": "text/x-python",
   "name": "python",
   "nbconvert_exporter": "python",
   "pygments_lexer": "ipython3",
   "version": "3.12.4"
  }
 },
 "nbformat": 4,
 "nbformat_minor": 5
}
