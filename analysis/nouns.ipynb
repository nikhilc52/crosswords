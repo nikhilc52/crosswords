{
 "cells": [
  {
   "cell_type": "code",
   "execution_count": null,
   "id": "7b63340e",
   "metadata": {},
   "outputs": [],
   "source": [
    "import pandas as pd\n",
    "import numpy as np\n",
    "import duckdb\n",
    "from nltk.tag import pos_tag\n",
    "from nltk.tokenize import word_tokenize"
   ]
  },
  {
   "cell_type": "code",
   "execution_count": null,
   "id": "f5667057",
   "metadata": {},
   "outputs": [],
   "source": [
    "data = pd.read_csv(\"../crossword_clues.csv\")\n",
    "data.head()"
   ]
  },
  {
   "cell_type": "code",
   "execution_count": null,
   "id": "5ad10741",
   "metadata": {},
   "outputs": [],
   "source": [
    "#takes about 6 mins to run\n",
    "word_list = [[]] * len(data['clue']) \n",
    "\n",
    "for index, item in enumerate(data['clue']):\n",
    "    print(index)\n",
    "    word_list[index] = (pos_tag(word_tokenize(item)))"
   ]
  },
  {
   "cell_type": "code",
   "execution_count": null,
   "id": "e1ea7b8f",
   "metadata": {},
   "outputs": [],
   "source": [
    "data['words'] = word_list\n",
    "data = data.explode('words')"
   ]
  },
  {
   "cell_type": "code",
   "execution_count": null,
   "id": "5e7210c2",
   "metadata": {},
   "outputs": [],
   "source": [
    "data[['word', 'pos']] = pd.DataFrame(data['words'].tolist(), index=data.index)"
   ]
  },
  {
   "cell_type": "code",
   "execution_count": null,
   "id": "120a8469",
   "metadata": {},
   "outputs": [],
   "source": [
    "ppns = duckdb.sql(\"\"\"SELECT word, COUNT(*) as count FROM data \n",
    "           WHERE pos = 'NNP' \n",
    "           GROUP BY word\n",
    "           ORDER BY count DESC\"\"\").df()"
   ]
  }
 ],
 "metadata": {
  "kernelspec": {
   "display_name": "info2950FA24",
   "language": "python",
   "name": "python3"
  },
  "language_info": {
   "codemirror_mode": {
    "name": "ipython",
    "version": 3
   },
   "file_extension": ".py",
   "mimetype": "text/x-python",
   "name": "python",
   "nbconvert_exporter": "python",
   "pygments_lexer": "ipython3",
   "version": "3.12.4"
  }
 },
 "nbformat": 4,
 "nbformat_minor": 5
}
